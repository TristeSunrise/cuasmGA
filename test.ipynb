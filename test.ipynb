{
 "cells": [
  {
   "cell_type": "code",
   "execution_count": 1,
   "id": "92c02491",
   "metadata": {},
   "outputs": [],
   "source": [
    "%load_ext autoreload\n",
    "%autoreload 2"
   ]
  },
  {
   "cell_type": "code",
   "execution_count": 2,
   "id": "f9ad6330",
   "metadata": {},
   "outputs": [],
   "source": [
    "import random\n",
    "\n",
    "from sassgen import extract_kernel_sass, write_sass_file\n",
    "from ga import initialize_population, tournament_selection, crossover"
   ]
  },
  {
   "cell_type": "code",
   "execution_count": 3,
   "id": "c5547893",
   "metadata": {},
   "outputs": [
    {
     "name": "stdout",
     "output_type": "stream",
     "text": [
      "2025-08-03 18:21:00,720 -          - Running CubinFile.loadCubin...\n",
      "2025-08-03 18:21:00,721 -    ENTRY -     Loading cubin file C:\\Users\\lixin\\AppData\\Local\\Temp\\tmp0lrwooae.cubin...\n",
      "2025-08-03 18:21:00,738 -  WARNING - This Cubin(CuSMVersion(80)) needs desc hack!\n",
      "2025-08-03 18:21:00,739 -          -     Running hackCubinDesc...\n",
      "2025-08-03 18:21:00,742 -          -     Func hackCubinDesc completed! Time=  0.0020 secs.\n",
      "2025-08-03 18:21:00,742 -          -     Running CubinFile.disassembleCubin...\n",
      "2025-08-03 18:21:00,743 -     PROC -         Disassembling C:\\Users\\lixin\\AppData\\Local\\Temp\\cuasm.0803-182100qhefvftg.cubin...\n",
      "2025-08-03 18:21:00,978 -          -     Func CubinFile.disassembleCubin completed! Time=  0.2352 secs.\n",
      "2025-08-03 18:21:00,978 -          - Func CubinFile.loadCubin completed! Time=  0.2572 secs.\n"
     ]
    }
   ],
   "source": [
    "sass,kernel_section = extract_kernel_sass(\"cuasmrl_kernel_0d1d2_0.pkl\")\n",
    "\n"
   ]
  },
  {
   "cell_type": "code",
   "execution_count": 8,
   "id": "86cd4db7",
   "metadata": {},
   "outputs": [
    {
     "name": "stdout",
     "output_type": "stream",
     "text": [
      "导入成功\n",
      "SassKernel init called\n",
      "_locate_kernel called\n",
      "kernrl start line found: 21\n",
      "startline found: 3577\n"
     ]
    }
   ],
   "source": [
    "from sass_kernel import SassKernel\n",
    "print(\"导入成功\")\n",
    "sasskernel = SassKernel(sass,kernel_section)"
   ]
  },
  {
   "cell_type": "code",
   "execution_count": null,
   "id": "00134b2a",
   "metadata": {},
   "outputs": [
    {
     "name": "stdout",
     "output_type": "stream",
     "text": [
      "  .text.cuasmrl_kernel_0d1d2d3de4de5de6de7c8de9c10de11c:\n"
     ]
    }
   ],
   "source": [
    "pure_kernel = sasskernel._get_kernel()\n",
    "print(pure_kernel[0])"
   ]
  },
  {
   "cell_type": "code",
   "execution_count": 6,
   "id": "4ca9b983",
   "metadata": {},
   "outputs": [
    {
     "name": "stdout",
     "output_type": "stream",
     "text": [
      "sass_len = 4548\n",
      "kernel_section_len = 925\n",
      "904\n"
     ]
    }
   ],
   "source": [
    "print(f\"sass_len = {len(sass)}\")\n",
    "print(f\"kernel_section_len = {len(kernel_section)}\")\n",
    "print(len(pure_kernel))"
   ]
  },
  {
   "cell_type": "code",
   "execution_count": 7,
   "id": "9992595f",
   "metadata": {},
   "outputs": [
    {
     "name": "stdout",
     "output_type": "stream",
     "text": [
      "<class 'list'>\n",
      "population lenth:10\n",
      "population[0] type:<class 'ga.Individual'>\n",
      "individual lenth:904\n"
     ]
    }
   ],
   "source": [
    "\n",
    "population = initialize_population(pure_kernel)\n",
    "print(type(population))\n",
    "print(f\"population lenth:{len(population)}\")\n",
    "print(f\"population[0] type:{type(population[0])}\")\n",
    "print(f\"individual lenth:{len(population[0].sass)}\")\n"
   ]
  }
 ],
 "metadata": {
  "kernelspec": {
   "display_name": "cuasmGA",
   "language": "python",
   "name": "python3"
  },
  "language_info": {
   "codemirror_mode": {
    "name": "ipython",
    "version": 3
   },
   "file_extension": ".py",
   "mimetype": "text/x-python",
   "name": "python",
   "nbconvert_exporter": "python",
   "pygments_lexer": "ipython3",
   "version": "3.11.13"
  }
 },
 "nbformat": 4,
 "nbformat_minor": 5
}
